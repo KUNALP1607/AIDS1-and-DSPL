{
  "nbformat": 4,
  "nbformat_minor": 0,
  "metadata": {
    "colab": {
      "provenance": [],
      "authorship_tag": "ABX9TyOz8UV5T0o4GgzXN37Vju2R",
      "include_colab_link": true
    },
    "kernelspec": {
      "name": "python3",
      "display_name": "Python 3"
    },
    "language_info": {
      "name": "python"
    }
  },
  "cells": [
    {
      "cell_type": "markdown",
      "metadata": {
        "id": "view-in-github",
        "colab_type": "text"
      },
      "source": [
        "<a href=\"https://colab.research.google.com/github/KUNALP1607/AIDS1-and-DSPL/blob/main/Exp1.ipynb\" target=\"_parent\"><img src=\"https://colab.research.google.com/assets/colab-badge.svg\" alt=\"Open In Colab\"/></a>"
      ]
    },
    {
      "cell_type": "code",
      "execution_count": 1,
      "metadata": {
        "id": "EY1swFY0W58M"
      },
      "outputs": [],
      "source": [
        "# import the pandas library\n",
        "import pandas as pd\n",
        "import numpy as np"
      ]
    },
    {
      "cell_type": "code",
      "source": [
        "from google.colab import files\n",
        "uploaded = files.upload()\n"
      ],
      "metadata": {
        "colab": {
          "base_uri": "https://localhost:8080/",
          "height": 73
        },
        "id": "9rc4a3rzaiSD",
        "outputId": "5016b7d8-82a9-46e9-f079-3e54e92d4c72"
      },
      "execution_count": 4,
      "outputs": [
        {
          "output_type": "display_data",
          "data": {
            "text/plain": [
              "<IPython.core.display.HTML object>"
            ],
            "text/html": [
              "\n",
              "     <input type=\"file\" id=\"files-a8ea4b1b-07d6-4a2c-a126-531a2c2520be\" name=\"files[]\" multiple disabled\n",
              "        style=\"border:none\" />\n",
              "     <output id=\"result-a8ea4b1b-07d6-4a2c-a126-531a2c2520be\">\n",
              "      Upload widget is only available when the cell has been executed in the\n",
              "      current browser session. Please rerun this cell to enable.\n",
              "      </output>\n",
              "      <script>// Copyright 2017 Google LLC\n",
              "//\n",
              "// Licensed under the Apache License, Version 2.0 (the \"License\");\n",
              "// you may not use this file except in compliance with the License.\n",
              "// You may obtain a copy of the License at\n",
              "//\n",
              "//      http://www.apache.org/licenses/LICENSE-2.0\n",
              "//\n",
              "// Unless required by applicable law or agreed to in writing, software\n",
              "// distributed under the License is distributed on an \"AS IS\" BASIS,\n",
              "// WITHOUT WARRANTIES OR CONDITIONS OF ANY KIND, either express or implied.\n",
              "// See the License for the specific language governing permissions and\n",
              "// limitations under the License.\n",
              "\n",
              "/**\n",
              " * @fileoverview Helpers for google.colab Python module.\n",
              " */\n",
              "(function(scope) {\n",
              "function span(text, styleAttributes = {}) {\n",
              "  const element = document.createElement('span');\n",
              "  element.textContent = text;\n",
              "  for (const key of Object.keys(styleAttributes)) {\n",
              "    element.style[key] = styleAttributes[key];\n",
              "  }\n",
              "  return element;\n",
              "}\n",
              "\n",
              "// Max number of bytes which will be uploaded at a time.\n",
              "const MAX_PAYLOAD_SIZE = 100 * 1024;\n",
              "\n",
              "function _uploadFiles(inputId, outputId) {\n",
              "  const steps = uploadFilesStep(inputId, outputId);\n",
              "  const outputElement = document.getElementById(outputId);\n",
              "  // Cache steps on the outputElement to make it available for the next call\n",
              "  // to uploadFilesContinue from Python.\n",
              "  outputElement.steps = steps;\n",
              "\n",
              "  return _uploadFilesContinue(outputId);\n",
              "}\n",
              "\n",
              "// This is roughly an async generator (not supported in the browser yet),\n",
              "// where there are multiple asynchronous steps and the Python side is going\n",
              "// to poll for completion of each step.\n",
              "// This uses a Promise to block the python side on completion of each step,\n",
              "// then passes the result of the previous step as the input to the next step.\n",
              "function _uploadFilesContinue(outputId) {\n",
              "  const outputElement = document.getElementById(outputId);\n",
              "  const steps = outputElement.steps;\n",
              "\n",
              "  const next = steps.next(outputElement.lastPromiseValue);\n",
              "  return Promise.resolve(next.value.promise).then((value) => {\n",
              "    // Cache the last promise value to make it available to the next\n",
              "    // step of the generator.\n",
              "    outputElement.lastPromiseValue = value;\n",
              "    return next.value.response;\n",
              "  });\n",
              "}\n",
              "\n",
              "/**\n",
              " * Generator function which is called between each async step of the upload\n",
              " * process.\n",
              " * @param {string} inputId Element ID of the input file picker element.\n",
              " * @param {string} outputId Element ID of the output display.\n",
              " * @return {!Iterable<!Object>} Iterable of next steps.\n",
              " */\n",
              "function* uploadFilesStep(inputId, outputId) {\n",
              "  const inputElement = document.getElementById(inputId);\n",
              "  inputElement.disabled = false;\n",
              "\n",
              "  const outputElement = document.getElementById(outputId);\n",
              "  outputElement.innerHTML = '';\n",
              "\n",
              "  const pickedPromise = new Promise((resolve) => {\n",
              "    inputElement.addEventListener('change', (e) => {\n",
              "      resolve(e.target.files);\n",
              "    });\n",
              "  });\n",
              "\n",
              "  const cancel = document.createElement('button');\n",
              "  inputElement.parentElement.appendChild(cancel);\n",
              "  cancel.textContent = 'Cancel upload';\n",
              "  const cancelPromise = new Promise((resolve) => {\n",
              "    cancel.onclick = () => {\n",
              "      resolve(null);\n",
              "    };\n",
              "  });\n",
              "\n",
              "  // Wait for the user to pick the files.\n",
              "  const files = yield {\n",
              "    promise: Promise.race([pickedPromise, cancelPromise]),\n",
              "    response: {\n",
              "      action: 'starting',\n",
              "    }\n",
              "  };\n",
              "\n",
              "  cancel.remove();\n",
              "\n",
              "  // Disable the input element since further picks are not allowed.\n",
              "  inputElement.disabled = true;\n",
              "\n",
              "  if (!files) {\n",
              "    return {\n",
              "      response: {\n",
              "        action: 'complete',\n",
              "      }\n",
              "    };\n",
              "  }\n",
              "\n",
              "  for (const file of files) {\n",
              "    const li = document.createElement('li');\n",
              "    li.append(span(file.name, {fontWeight: 'bold'}));\n",
              "    li.append(span(\n",
              "        `(${file.type || 'n/a'}) - ${file.size} bytes, ` +\n",
              "        `last modified: ${\n",
              "            file.lastModifiedDate ? file.lastModifiedDate.toLocaleDateString() :\n",
              "                                    'n/a'} - `));\n",
              "    const percent = span('0% done');\n",
              "    li.appendChild(percent);\n",
              "\n",
              "    outputElement.appendChild(li);\n",
              "\n",
              "    const fileDataPromise = new Promise((resolve) => {\n",
              "      const reader = new FileReader();\n",
              "      reader.onload = (e) => {\n",
              "        resolve(e.target.result);\n",
              "      };\n",
              "      reader.readAsArrayBuffer(file);\n",
              "    });\n",
              "    // Wait for the data to be ready.\n",
              "    let fileData = yield {\n",
              "      promise: fileDataPromise,\n",
              "      response: {\n",
              "        action: 'continue',\n",
              "      }\n",
              "    };\n",
              "\n",
              "    // Use a chunked sending to avoid message size limits. See b/62115660.\n",
              "    let position = 0;\n",
              "    do {\n",
              "      const length = Math.min(fileData.byteLength - position, MAX_PAYLOAD_SIZE);\n",
              "      const chunk = new Uint8Array(fileData, position, length);\n",
              "      position += length;\n",
              "\n",
              "      const base64 = btoa(String.fromCharCode.apply(null, chunk));\n",
              "      yield {\n",
              "        response: {\n",
              "          action: 'append',\n",
              "          file: file.name,\n",
              "          data: base64,\n",
              "        },\n",
              "      };\n",
              "\n",
              "      let percentDone = fileData.byteLength === 0 ?\n",
              "          100 :\n",
              "          Math.round((position / fileData.byteLength) * 100);\n",
              "      percent.textContent = `${percentDone}% done`;\n",
              "\n",
              "    } while (position < fileData.byteLength);\n",
              "  }\n",
              "\n",
              "  // All done.\n",
              "  yield {\n",
              "    response: {\n",
              "      action: 'complete',\n",
              "    }\n",
              "  };\n",
              "}\n",
              "\n",
              "scope.google = scope.google || {};\n",
              "scope.google.colab = scope.google.colab || {};\n",
              "scope.google.colab._files = {\n",
              "  _uploadFiles,\n",
              "  _uploadFilesContinue,\n",
              "};\n",
              "})(self);\n",
              "</script> "
            ]
          },
          "metadata": {}
        },
        {
          "output_type": "stream",
          "name": "stdout",
          "text": [
            "Saving students_performance_dataset.csv to students_performance_dataset (1).csv\n"
          ]
        }
      ]
    },
    {
      "cell_type": "code",
      "source": [
        "df = pd.read_csv('students_performance_dataset.csv')\n"
      ],
      "metadata": {
        "id": "qTHv5qZJbRsT"
      },
      "execution_count": 5,
      "outputs": []
    },
    {
      "cell_type": "code",
      "source": [
        "# To print no. of samples and attributes\n",
        "print(df.shape)"
      ],
      "metadata": {
        "colab": {
          "base_uri": "https://localhost:8080/"
        },
        "id": "bzL5n0facoXA",
        "outputId": "c0aac8cc-b394-4cc9-fb7f-0091a06e8b51"
      },
      "execution_count": 6,
      "outputs": [
        {
          "output_type": "stream",
          "name": "stdout",
          "text": [
            "(100, 9)\n"
          ]
        }
      ]
    },
    {
      "cell_type": "code",
      "source": [
        "# getting the columns of the dataset\n",
        "columns = list(df.columns)\n",
        "print(columns)"
      ],
      "metadata": {
        "colab": {
          "base_uri": "https://localhost:8080/"
        },
        "id": "AorLCNuAcwAY",
        "outputId": "8b3589c8-f336-4a34-9a84-0709d443d575"
      },
      "execution_count": 7,
      "outputs": [
        {
          "output_type": "stream",
          "name": "stdout",
          "text": [
            "['StudentID', 'Name', 'Age', 'Gender', 'Math_Score', 'Reading_Score', 'Writing_Score', 'Attendance', 'Parental_Education']\n"
          ]
        }
      ]
    },
    {
      "cell_type": "code",
      "source": [
        "# To print first five samples\n",
        "print(df.head())"
      ],
      "metadata": {
        "colab": {
          "base_uri": "https://localhost:8080/"
        },
        "id": "wG8x2UFbc3pR",
        "outputId": "6ebdace9-4631-4386-e84c-89d091818d48"
      },
      "execution_count": 8,
      "outputs": [
        {
          "output_type": "stream",
          "name": "stdout",
          "text": [
            "   StudentID       Name  Age  Gender  Math_Score  Reading_Score  \\\n",
            "0          1  Student_1   19  Female          51             56   \n",
            "1          2  Student_2   20    Male          52             57   \n",
            "2          3  Student_3   21  Female          53             58   \n",
            "3          4  Student_4   22    Male          54             59   \n",
            "4          5  Student_5   18  Female          55             60   \n",
            "\n",
            "   Writing_Score  Attendance Parental_Education  \n",
            "0             61          76            College  \n",
            "1             62          77           Graduate  \n",
            "2             63          78        High School  \n",
            "3             64          79            College  \n",
            "4             65          80           Graduate  \n"
          ]
        }
      ]
    },
    {
      "cell_type": "code",
      "source": [
        "#Describing dataset\n",
        "print(df.describe())"
      ],
      "metadata": {
        "colab": {
          "base_uri": "https://localhost:8080/"
        },
        "id": "iqc8p30hc9Mo",
        "outputId": "d0b7b8ce-b3d7-492e-df85-a80fc68f6e3a"
      },
      "execution_count": 9,
      "outputs": [
        {
          "output_type": "stream",
          "name": "stdout",
          "text": [
            "        StudentID         Age  Math_Score  Reading_Score  Writing_Score  \\\n",
            "count  100.000000  100.000000  100.000000     100.000000     100.000000   \n",
            "mean    50.500000   20.000000   75.000000      76.060000      78.110000   \n",
            "std     29.011492    1.421338   14.512273      13.722223      11.717116   \n",
            "min      1.000000   18.000000   50.000000      55.000000      60.000000   \n",
            "25%     25.750000   19.000000   62.750000      63.000000      68.000000   \n",
            "50%     50.500000   20.000000   75.000000      75.500000      76.500000   \n",
            "75%     75.250000   21.000000   87.250000      88.000000      88.000000   \n",
            "max    100.000000   22.000000  100.000000     100.000000     100.000000   \n",
            "\n",
            "       Attendance  \n",
            "count   100.00000  \n",
            "mean     87.28000  \n",
            "std       7.30999  \n",
            "min      75.00000  \n",
            "25%      81.00000  \n",
            "50%      87.00000  \n",
            "75%      93.25000  \n",
            "max     100.00000  \n"
          ]
        }
      ]
    },
    {
      "cell_type": "code",
      "source": [
        "#New dataframe\n",
        "new_df = df\n",
        "#new_df.isnull()\n",
        "#Checking for null values\n",
        "print(new_df.isnull().sum())\n",
        "print(\"Missing values distribution: \")\n",
        "print(new_df.isnull().mean())\n",
        "#print(new_df.shape)\n",
        "#new_df.duplicated()"
      ],
      "metadata": {
        "colab": {
          "base_uri": "https://localhost:8080/"
        },
        "id": "oCFTsplwdXWh",
        "outputId": "47292dd5-7987-4775-9fc6-a493956b0d4a"
      },
      "execution_count": 10,
      "outputs": [
        {
          "output_type": "stream",
          "name": "stdout",
          "text": [
            "StudentID             0\n",
            "Name                  0\n",
            "Age                   0\n",
            "Gender                0\n",
            "Math_Score            0\n",
            "Reading_Score         0\n",
            "Writing_Score         0\n",
            "Attendance            0\n",
            "Parental_Education    0\n",
            "dtype: int64\n",
            "Missing values distribution: \n",
            "StudentID             0.0\n",
            "Name                  0.0\n",
            "Age                   0.0\n",
            "Gender                0.0\n",
            "Math_Score            0.0\n",
            "Reading_Score         0.0\n",
            "Writing_Score         0.0\n",
            "Attendance            0.0\n",
            "Parental_Education    0.0\n",
            "dtype: float64\n"
          ]
        }
      ]
    },
    {
      "cell_type": "code",
      "source": [
        "# #Checking for duplicates\n",
        "print(new_df.duplicated().any())\n",
        "print(new_df.duplicated())\n",
        "print(new_df.shape)"
      ],
      "metadata": {
        "colab": {
          "base_uri": "https://localhost:8080/"
        },
        "id": "qdxsM3l4eQfB",
        "outputId": "22af88ba-f525-46ec-a393-456b790b31f4"
      },
      "execution_count": 11,
      "outputs": [
        {
          "output_type": "stream",
          "name": "stdout",
          "text": [
            "False\n",
            "0     False\n",
            "1     False\n",
            "2     False\n",
            "3     False\n",
            "4     False\n",
            "      ...  \n",
            "95    False\n",
            "96    False\n",
            "97    False\n",
            "98    False\n",
            "99    False\n",
            "Length: 100, dtype: bool\n",
            "(100, 9)\n"
          ]
        }
      ]
    },
    {
      "cell_type": "code",
      "source": [
        "print(\"Column datatypes: \")\n",
        "print(new_df.dtypes)"
      ],
      "metadata": {
        "colab": {
          "base_uri": "https://localhost:8080/"
        },
        "id": "cZ3V0ZW_eiPA",
        "outputId": "08085f04-4604-4b3f-fec2-9c2f3c2681a5"
      },
      "execution_count": 12,
      "outputs": [
        {
          "output_type": "stream",
          "name": "stdout",
          "text": [
            "Column datatypes: \n",
            "StudentID              int64\n",
            "Name                  object\n",
            "Age                    int64\n",
            "Gender                object\n",
            "Math_Score             int64\n",
            "Reading_Score          int64\n",
            "Writing_Score          int64\n",
            "Attendance             int64\n",
            "Parental_Education    object\n",
            "dtype: object\n"
          ]
        }
      ]
    },
    {
      "cell_type": "code",
      "source": [
        "#Replacing string values with integer\n",
        "new_df[\"Gender\"].replace({\"Male\":\"1\", \"Female\":\"0\"})\n",
        "print(new_df.head())\n",
        "print(new_df.shape)"
      ],
      "metadata": {
        "colab": {
          "base_uri": "https://localhost:8080/"
        },
        "id": "i9PDSt7jepxY",
        "outputId": "13820f94-90a0-43d8-9271-85d5610d8f05"
      },
      "execution_count": 15,
      "outputs": [
        {
          "output_type": "stream",
          "name": "stdout",
          "text": [
            "   StudentID       Name  Age Gender  Math_Score  Reading_Score  Writing_Score  \\\n",
            "0          1  Student_1   19      0          51             56             61   \n",
            "1          2  Student_2   20      1          52             57             62   \n",
            "2          3  Student_3   21      0          53             58             63   \n",
            "3          4  Student_4   22      1          54             59             64   \n",
            "4          5  Student_5   18      0          55             60             65   \n",
            "\n",
            "   Attendance Parental_Education  \n",
            "0          76            College  \n",
            "1          77           Graduate  \n",
            "2          78        High School  \n",
            "3          79            College  \n",
            "4          80           Graduate  \n",
            "(100, 9)\n"
          ]
        }
      ]
    },
    {
      "cell_type": "code",
      "source": [
        "#Finding unique values in \"Parental_Education\"\n",
        "print(new_df[\"Parental_Education\"].unique())"
      ],
      "metadata": {
        "colab": {
          "base_uri": "https://localhost:8080/"
        },
        "id": "-0O2mX1Qff4J",
        "outputId": "508b0590-0896-4007-9839-cdd32f0d0afd"
      },
      "execution_count": 16,
      "outputs": [
        {
          "output_type": "stream",
          "name": "stdout",
          "text": [
            "['College' 'Graduate' 'High School']\n"
          ]
        }
      ]
    },
    {
      "cell_type": "code",
      "source": [
        "#Replacing string values with int\n",
        "\n",
        "new_df['Parental_Education'].replace({'College':'0','Graduate':'1','High School':'2'})\n",
        "print(new_df.head())"
      ],
      "metadata": {
        "colab": {
          "base_uri": "https://localhost:8080/"
        },
        "id": "eW4SS8bggH6g",
        "outputId": "6502d940-9c64-417d-bfc5-ba5f77caacb9"
      },
      "execution_count": 18,
      "outputs": [
        {
          "output_type": "stream",
          "name": "stdout",
          "text": [
            "   StudentID       Name  Age Gender  Math_Score  Reading_Score  Writing_Score  \\\n",
            "0          1  Student_1   19      0          51             56             61   \n",
            "1          2  Student_2   20      1          52             57             62   \n",
            "2          3  Student_3   21      0          53             58             63   \n",
            "3          4  Student_4   22      1          54             59             64   \n",
            "4          5  Student_5   18      0          55             60             65   \n",
            "\n",
            "   Attendance Parental_Education  \n",
            "0          76                  0  \n",
            "1          77                  1  \n",
            "2          78                  2  \n",
            "3          79                  0  \n",
            "4          80                  1  \n"
          ]
        }
      ]
    },
    {
      "cell_type": "code",
      "source": [
        "#Describing data after preprocessing\n",
        "print(new_df.shape)\n",
        "print(new_df.head())"
      ],
      "metadata": {
        "colab": {
          "base_uri": "https://localhost:8080/"
        },
        "id": "UgIiAZv9h1Y5",
        "outputId": "75009c23-990c-4ad5-c2a8-1f8ffb09749c"
      },
      "execution_count": 19,
      "outputs": [
        {
          "output_type": "stream",
          "name": "stdout",
          "text": [
            "(100, 9)\n",
            "   StudentID       Name  Age Gender  Math_Score  Reading_Score  Writing_Score  \\\n",
            "0          1  Student_1   19      0          51             56             61   \n",
            "1          2  Student_2   20      1          52             57             62   \n",
            "2          3  Student_3   21      0          53             58             63   \n",
            "3          4  Student_4   22      1          54             59             64   \n",
            "4          5  Student_5   18      0          55             60             65   \n",
            "\n",
            "   Attendance Parental_Education  \n",
            "0          76                  0  \n",
            "1          77                  1  \n",
            "2          78                  2  \n",
            "3          79                  0  \n",
            "4          80                  1  \n"
          ]
        }
      ]
    }
  ]
}